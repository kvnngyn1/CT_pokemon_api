{
 "cells": [
  {
   "cell_type": "markdown",
   "metadata": {
    "id": "fK2SjXgoq_Tp"
   },
   "source": [
    "Take a look at PokeAPI: <a href=\"https://pokeapi.co/\">https://pokeapi.co/</a>.\n",
    "\n",
    "On this website you will see an API simulator. Trying any combination of correct possible server requests should yield you a successful result in the scrollable area. In this scrollable area is an exact server response you will get if you sent a response to it.\n",
    "\n",
    "Click on the `Documentation` tab, then click on v2. On the next page you'll see a bunch of words that seemingly make no sense. Just like with any API, there is documentation showing you how to use it. API documentation, by nature, is very wordy, overwhelming and almost never straightforward. You will find very few APIs that have simple documentation. Once you start to become a mid-senior level engineer, the little details in documentation will make all the difference in the quality of your results. Most people find API documentation difficult to navigate at first. Don't worry, it's normal.\n",
    "\n",
    "That being said, familiarize yourself with everything in the documentation and try to skim as much as possible to get a feel for where everything is before proceeding. "
   ]
  },
  {
   "cell_type": "markdown",
   "metadata": {
    "id": "MzLYqqcXq_Ty"
   },
   "source": [
    "<strong>`Objective`</strong>: There are several main Pokemon class types: Fire, Water, Grass, Rock, Electric. Your application will use PokeAPI to build your own API program. Compile a list of 30 total Pokemon that identify as the aforementioned class types. Each category will hold a list of Pokemon and their personal attributes and some statistics as follows. Make this program an object-oriented program:\n",
    "\n",
    "**Note** How you compile the list of Pokemon is entirely up to you. "
   ]
  },
  {
   "cell_type": "code",
   "execution_count": 1,
   "metadata": {
    "id": "3y72fjpJq_T0"
   },
   "outputs": [
    {
     "data": {
      "text/plain": [
       "{'Electric': {'characters': [{'name': 'Pikachu',\n",
       "    'height': 4,\n",
       "    'weight': 60,\n",
       "    'stats': {'health (hp)': 35, 'attack': 55, 'defense': 40, 'speed': 90},\n",
       "    'abilities': [{'name': 'lightning-rod'}, {'name': 'static'}]}],\n",
       "  'statistics': {'average height': 55.0,\n",
       "   'average weight': 55.0,\n",
       "   'average health': 55.0,\n",
       "   'average attack': 55.0,\n",
       "   'average defense': 55.0,\n",
       "   'average speed': 55.0}},\n",
       " 'Water': {'characters': [{Ellipsis}], 'statistics': {Ellipsis}}}"
      ]
     },
     "execution_count": 1,
     "metadata": {},
     "output_type": "execute_result"
    }
   ],
   "source": [
    "{\n",
    "    \"Electric\": {\n",
    "        \"characters\": [\n",
    "            {\n",
    "                \"name\": \"Pikachu\",\n",
    "                \"height\": 4,\n",
    "                \"weight\": 60,\n",
    "                \"stats\": {\n",
    "                    \"health (hp)\": 35,\n",
    "                    \"attack\": 55,\n",
    "                    \"defense\": 40,\n",
    "                    \"speed\": 90\n",
    "                },\n",
    "                \"abilities\": [\n",
    "                    {\n",
    "                        \"name\": \"lightning-rod\"\n",
    "                    },\n",
    "                    {\n",
    "                        \"name\": \"static\"\n",
    "                    }\n",
    "                ]\n",
    "            }\n",
    "        ],\n",
    "        \"statistics\": {\n",
    "            \"average height\": 55.0,\n",
    "            \"average weight\": 55.0,\n",
    "            \"average health\": 55.0,\n",
    "            \"average attack\": 55.0,\n",
    "            \"average defense\": 55.0,\n",
    "            \"average speed\": 55.0\n",
    "        }\n",
    "    },\n",
    "    \"Water\": {\n",
    "        \"characters\": [\n",
    "            { ... }\n",
    "        ],\n",
    "        \"statistics\": { ... }\n",
    "    }\n",
    "}"
   ]
  },
  {
   "cell_type": "markdown",
   "metadata": {},
   "source": [
    "Link to an API!"
   ]
  },
  {
   "cell_type": "code",
   "execution_count": null,
   "metadata": {},
   "outputs": [],
   "source": [
    "https://pokeapi.co/"
   ]
  },
  {
   "cell_type": "code",
   "execution_count": null,
   "metadata": {},
   "outputs": [],
   "source": [
    "#class Pokedex:\n",
    "#    def __init__(self, name, type_, id_):\n",
    "#        self.name = name\n",
    "#        self.type = type_\n",
    "#        self.id = id_\n",
    "\n",
    "\n",
    "#pokemon_list = [bulbasaur, ivysaur, venusaur, charmander, charmeleon, charizard, \n",
    "#squirtle, wartortle, blastoise, caterpie, metapod, butterfree, weedle, kakuna, \n",
    "#beedrill, pidgey, pidgeotto, pidgeot, rattata, raticate, spearow, fearow, ekans, \n",
    "#            arbok, pikachu, raichu, sandshrew, sandslash, nidoran-f, nidorina ]"
   ]
  },
  {
   "cell_type": "code",
   "execution_count": 5,
   "metadata": {},
   "outputs": [
    {
     "name": "stdout",
     "output_type": "stream",
     "text": [
      "<Response [200]>\n"
     ]
    }
   ],
   "source": [
    "import requests\n",
    "\n",
    "pokemon = 'https://pokeapi.co/api/v2/pokemon?limit=30'\n",
    "page = requests.get(pokemon)\n",
    "print(page)"
   ]
  },
  {
   "cell_type": "code",
   "execution_count": 3,
   "metadata": {},
   "outputs": [
    {
     "data": {
      "text/plain": [
       "{'count': 1118,\n",
       " 'next': 'https://pokeapi.co/api/v2/pokemon?offset=30&limit=30',\n",
       " 'previous': None,\n",
       " 'results': [{'name': 'bulbasaur',\n",
       "   'url': 'https://pokeapi.co/api/v2/pokemon/1/'},\n",
       "  {'name': 'ivysaur', 'url': 'https://pokeapi.co/api/v2/pokemon/2/'},\n",
       "  {'name': 'venusaur', 'url': 'https://pokeapi.co/api/v2/pokemon/3/'},\n",
       "  {'name': 'charmander', 'url': 'https://pokeapi.co/api/v2/pokemon/4/'},\n",
       "  {'name': 'charmeleon', 'url': 'https://pokeapi.co/api/v2/pokemon/5/'},\n",
       "  {'name': 'charizard', 'url': 'https://pokeapi.co/api/v2/pokemon/6/'},\n",
       "  {'name': 'squirtle', 'url': 'https://pokeapi.co/api/v2/pokemon/7/'},\n",
       "  {'name': 'wartortle', 'url': 'https://pokeapi.co/api/v2/pokemon/8/'},\n",
       "  {'name': 'blastoise', 'url': 'https://pokeapi.co/api/v2/pokemon/9/'},\n",
       "  {'name': 'caterpie', 'url': 'https://pokeapi.co/api/v2/pokemon/10/'},\n",
       "  {'name': 'metapod', 'url': 'https://pokeapi.co/api/v2/pokemon/11/'},\n",
       "  {'name': 'butterfree', 'url': 'https://pokeapi.co/api/v2/pokemon/12/'},\n",
       "  {'name': 'weedle', 'url': 'https://pokeapi.co/api/v2/pokemon/13/'},\n",
       "  {'name': 'kakuna', 'url': 'https://pokeapi.co/api/v2/pokemon/14/'},\n",
       "  {'name': 'beedrill', 'url': 'https://pokeapi.co/api/v2/pokemon/15/'},\n",
       "  {'name': 'pidgey', 'url': 'https://pokeapi.co/api/v2/pokemon/16/'},\n",
       "  {'name': 'pidgeotto', 'url': 'https://pokeapi.co/api/v2/pokemon/17/'},\n",
       "  {'name': 'pidgeot', 'url': 'https://pokeapi.co/api/v2/pokemon/18/'},\n",
       "  {'name': 'rattata', 'url': 'https://pokeapi.co/api/v2/pokemon/19/'},\n",
       "  {'name': 'raticate', 'url': 'https://pokeapi.co/api/v2/pokemon/20/'},\n",
       "  {'name': 'spearow', 'url': 'https://pokeapi.co/api/v2/pokemon/21/'},\n",
       "  {'name': 'fearow', 'url': 'https://pokeapi.co/api/v2/pokemon/22/'},\n",
       "  {'name': 'ekans', 'url': 'https://pokeapi.co/api/v2/pokemon/23/'},\n",
       "  {'name': 'arbok', 'url': 'https://pokeapi.co/api/v2/pokemon/24/'},\n",
       "  {'name': 'pikachu', 'url': 'https://pokeapi.co/api/v2/pokemon/25/'},\n",
       "  {'name': 'raichu', 'url': 'https://pokeapi.co/api/v2/pokemon/26/'},\n",
       "  {'name': 'sandshrew', 'url': 'https://pokeapi.co/api/v2/pokemon/27/'},\n",
       "  {'name': 'sandslash', 'url': 'https://pokeapi.co/api/v2/pokemon/28/'},\n",
       "  {'name': 'nidoran-f', 'url': 'https://pokeapi.co/api/v2/pokemon/29/'},\n",
       "  {'name': 'nidorina', 'url': 'https://pokeapi.co/api/v2/pokemon/30/'}]}"
      ]
     },
     "execution_count": 3,
     "metadata": {},
     "output_type": "execute_result"
    }
   ],
   "source": [
    "page.json()"
   ]
  },
  {
   "cell_type": "code",
   "execution_count": 1,
   "metadata": {},
   "outputs": [
    {
     "ename": "SyntaxError",
     "evalue": "invalid syntax (<ipython-input-1-15cfec8b8f0f>, line 25)",
     "output_type": "error",
     "traceback": [
      "\u001b[0;36m  File \u001b[0;32m\"<ipython-input-1-15cfec8b8f0f>\"\u001b[0;36m, line \u001b[0;32m25\u001b[0m\n\u001b[0;31m    if pokemon = pokedex(pokemon):\u001b[0m\n\u001b[0m               ^\u001b[0m\n\u001b[0;31mSyntaxError\u001b[0m\u001b[0;31m:\u001b[0m invalid syntax\n"
     ]
    }
   ],
   "source": [
    "import requests\n",
    "\n",
    "class Pokemon:\n",
    "    pokemon_list = []\n",
    "    \n",
    "    def __init__(self, name, id_, type_):\n",
    "        self.name = name\n",
    "        self.id = id_\n",
    "        self.type = type_\n",
    "                \n",
    "    def __repr__(self):\n",
    "        return f'<Pokemon: {self.id} {self.name} {self.type}>'\n",
    "    \n",
    "    def pokedex(self, data):\n",
    "        for field in ['id', 'name', 'type']:\n",
    "            if field in data:\n",
    "                setattr(self, field, data[field])\n",
    "    \n",
    "    def main():\n",
    "        print(\"\\n---------- Welcome to the Pokedex! ----------\\n\")\n",
    "        \n",
    "        while True:\n",
    "            print(\"\"\"bulbasaur, ivysaur, venusaur, \n",
    "                    charmander, charmeleon, charizard, \n",
    "                    squirtle, wartortle, blastoise, \n",
    "                    caterpie, metapod, butterfree, \n",
    "                    weedle, kakuna, beedrill, pidgey, \n",
    "                    pidgeotto, pidgeot, rattata, \n",
    "                    raticate, spearow, fearow, ekans, \n",
    "                    arbok, pikachu, raichu, sandshrew, \n",
    "                    sandslash, nidoran-f, nidorina\"\"\")\n",
    "            \n",
    "            pokemon_name = input(\"Type a pokemons name from list above!\")\n",
    "            if pokemon_name = f'{pokemon_name}'\n",
    "            \n",
    "            else:\n",
    "                return False\n",
    "                \n",
    "    main()\n",
    "# f'https://pokeapi.co/api/v2/pokemon/{pokemon_name}'\n"
   ]
  },
  {
   "cell_type": "code",
   "execution_count": null,
   "metadata": {},
   "outputs": [],
   "source": [
    "#p1 = Pokemon(requests.get('https://pokeapi.co/api/v2/pokemon/1'))\n",
    "#p2 = Pokemon(requests.get('https://pokeapi.co/api/v2/pokemon/2'))\n",
    "#p3 = Pokemon(requests.get('https://pokeapi.co/api/v2/pokemon/3'))\n",
    "#p4 = Pokemon(requests.get('https://pokeapi.co/api/v2/pokemon/4'))\n",
    "#p5 = Pokemon(requests.get('https://pokeapi.co/api/v2/pokemon/5'))\n",
    "#p6 = Pokemon(requests.get('https://pokeapi.co/api/v2/pokemon/6'))\n",
    "#p7 = Pokemon(requests.get('https://pokeapi.co/api/v2/pokemon/7'))\n",
    "#p8 = Pokemon(requests.get('https://pokeapi.co/api/v2/pokemon/8'))\n",
    "#p9 = Pokemon(requests.get('https://pokeapi.co/api/v2/pokemon/9'))\n",
    "#p10 = Pokemon(requests.get('https://pokeapi.co/api/v2/pokemon/10')) \n",
    "#p11 = Pokemon(requests.get('https://pokeapi.co/api/v2/pokemon/11'))\n",
    "#p12 = Pokemon(requests.get('https://pokeapi.co/api/v2/pokemon/12'))\n",
    "#p13 = Pokemon(requests.get('https://pokeapi.co/api/v2/pokemon/13'))\n",
    "#p14 = Pokemon(requests.get('https://pokeapi.co/api/v2/pokemon/14'))\n",
    "#p15 = Pokemon(requests.get('https://pokeapi.co/api/v2/pokemon/15'))\n",
    "#p16 = Pokemon(requests.get('https://pokeapi.co/api/v2/pokemon/16'))\n",
    "#p17 = Pokemon(requests.get('https://pokeapi.co/api/v2/pokemon/17')) \n",
    "#p18 = Pokemon(requests.get('https://pokeapi.co/api/v2/pokemon/18'))\n",
    "#p19 = Pokemon(requests.get('https://pokeapi.co/api/v2/pokemon/19'))\n",
    "#p20 = Pokemon(requests.get('https://pokeapi.co/api/v2/pokemon/20'))\n",
    "#p21 = Pokemon(requests.get('https://pokeapi.co/api/v2/pokemon/21'))\n",
    "#p22 = Pokemon(requests.get('https://pokeapi.co/api/v2/pokemon/22'))\n",
    "#p23 = Pokemon(requests.get('https://pokeapi.co/api/v2/pokemon/23'))\n",
    "#p24 = Pokemon(requests.get('https://pokeapi.co/api/v2/pokemon/24'))\n",
    "#p25 = Pokemon(requests.get('https://pokeapi.co/api/v2/pokemon/25'))\n",
    "#p26 = Pokemon(requests.get('https://pokeapi.co/api/v2/pokemon/26'))\n",
    "#p27 = Pokemon(requests.get('https://pokeapi.co/api/v2/pokemon/27')) \n",
    "#p28 = Pokemon(requests.get('https://pokeapi.co/api/v2/pokemon/28'))\n",
    "#p29 = Pokemon(requests.get('https://pokeapi.co/api/v2/pokemon/29'))\n",
    "#p30 = Pokemon(requests.get('https://pokeapi.co/api/v2/pokemon/30'))"
   ]
  },
  {
   "cell_type": "code",
   "execution_count": null,
   "metadata": {},
   "outputs": [],
   "source": [
    "#        for pokemon in pokedex:\n",
    "#            new_dict = {\n",
    "#                'id' : pokemon[],\n",
    "#                'name' : pokemon[],\n",
    "#                'type' : pokemon[],\n",
    "#            }\n",
    "#    print(pokemon)"
   ]
  },
  {
   "cell_type": "code",
   "execution_count": null,
   "metadata": {},
   "outputs": [],
   "source": []
  },
  {
   "cell_type": "code",
   "execution_count": null,
   "metadata": {},
   "outputs": [],
   "source": []
  },
  {
   "cell_type": "code",
   "execution_count": null,
   "metadata": {},
   "outputs": [],
   "source": []
  },
  {
   "cell_type": "code",
   "execution_count": null,
   "metadata": {},
   "outputs": [],
   "source": []
  },
  {
   "cell_type": "code",
   "execution_count": null,
   "metadata": {},
   "outputs": [],
   "source": []
  }
 ],
 "metadata": {
  "colab": {
   "name": "Pokemon Coding Challenge.ipynb",
   "provenance": []
  },
  "interpreter": {
   "hash": "bf67a1aec7936eadb42a79c70ce82a246b0e2402b919d00701a218c2d622ff5e"
  },
  "kernelspec": {
   "display_name": "Python 3",
   "language": "python",
   "name": "python3"
  },
  "language_info": {
   "codemirror_mode": {
    "name": "ipython",
    "version": 3
   },
   "file_extension": ".py",
   "mimetype": "text/x-python",
   "name": "python",
   "nbconvert_exporter": "python",
   "pygments_lexer": "ipython3",
   "version": "3.9.6"
  }
 },
 "nbformat": 4,
 "nbformat_minor": 1
}
